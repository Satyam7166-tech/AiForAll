{
 "cells": [
  {
   "cell_type": "code",
   "execution_count": 1,
   "metadata": {},
   "outputs": [],
   "source": [
    "from IPython.display import HTML\n",
    "from IPython.display import display\n",
    "import requests\n",
    "import json"
   ]
  },
  {
   "cell_type": "code",
   "execution_count": 2,
   "metadata": {},
   "outputs": [],
   "source": [
    "with open(\"WSAL/WLASL_v0.3.json\", \"r\") as json_file: \n",
    "    data = json.load(json_file)\n",
    "# Load the uploaded JSON file\n",
    "# with open(uploaded_file_name, \"r\") as json_file:\n",
    "#     data = json.load(json_file)\n"
   ]
  },
  {
   "cell_type": "code",
   "execution_count": 3,
   "metadata": {},
   "outputs": [],
   "source": [
    "def is_video_valid(url):\n",
    "    response = requests.head(url)\n",
    "    return response.status_code == 200 and response.headers.get(\"content-type\") == \"video/mp4\"\n",
    "\n",
    "def get_video_url_for_word(word, used_urls):\n",
    "    for item in data:\n",
    "        if item[\"gloss\"] == word:\n",
    "            instances = item[\"instances\"]\n",
    "            for instance in instances:\n",
    "                url = instance.get(\"url\")\n",
    "                if url and is_video_valid(url) and url not in used_urls:\n",
    "                    used_urls.add(url)  # Mark this URL as used\n",
    "                    return url\n",
    "            break  # Stop searching once the word is found\n",
    "    return None\n",
    "\n",
    "def text_to_asl_video(text):\n",
    "    words = text.split()\n",
    "    video_urls = []\n",
    "    used_urls = set()\n",
    "\n",
    "    for word in words:\n",
    "        video_url = get_video_url_for_word(word, used_urls)\n",
    "        if video_url:\n",
    "            video_urls.append(video_url)\n",
    "\n",
    "    return video_urls\n",
    "\n"
   ]
  },
  {
   "cell_type": "code",
   "execution_count": 4,
   "metadata": {},
   "outputs": [
    {
     "data": {
      "text/html": [
       "<div id=\"video-container\"></div><script>\n",
       "var videos = ['https://aslsignbank.haskins.yale.edu/dictionary/protected_media/glossvideo/ASL/AT/ATTENTION-756.mp4', 'https://s3-us-west-1.amazonaws.com/files.startasl.com/asldictionary/right.mp4', 'http://aslbricks.org/New/ASL-Videos/away.mp4', 'https://media.spreadthesign.com/video/mp4/13/90088.mp4', 'https://aslsignbank.haskins.yale.edu/dictionary/protected_media/glossvideo/ASL/DO/DOCUMENT-1265.mp4', 'https://www.signingsavvy.com/signs/mp4/7/7201.mp4'];\n",
       "var videoContainer = document.getElementById('video-container');\n",
       "var currentIndex = 0;\n",
       "\n",
       "function playNextVideo() {\n",
       "  if (currentIndex < videos.length) {\n",
       "    videoContainer.innerHTML = '<video width=\"330\" height=\"200\" controls autoplay onended=\"playNextVideo()\"><source src=\"' + videos[currentIndex] + '\" type=\"video/mp4\"></video>';\n",
       "    currentIndex++;\n",
       "  }\n",
       "}\n",
       "\n",
       "playNextVideo();\n",
       "</script>"
      ],
      "text/plain": [
       "<IPython.core.display.HTML object>"
      ]
     },
     "metadata": {},
     "output_type": "display_data"
    }
   ],
   "source": [
    "input_text = '''\n",
    "Get medical attention right away to document your injuries.'''\n",
    "video_urls = text_to_asl_video(input_text)\n",
    "\n",
    "# Generate HTML for the video playlist\n",
    "video_playlist = '<div id=\"video-container\"></div><script>'\n",
    "video_playlist += '''\n",
    "var videos = %s;\n",
    "var videoContainer = document.getElementById('video-container');\n",
    "var currentIndex = 0;\n",
    "\n",
    "function playNextVideo() {\n",
    "  if (currentIndex < videos.length) {\n",
    "    videoContainer.innerHTML = '<video width=\"330\" height=\"200\" controls autoplay onended=\"playNextVideo()\"><source src=\"' + videos[currentIndex] + '\" type=\"video/mp4\"></video>';\n",
    "    currentIndex++;\n",
    "  }\n",
    "}\n",
    "\n",
    "playNextVideo();\n",
    "''' % video_urls\n",
    "video_playlist += '</script>'\n",
    "\n",
    "display(HTML(video_playlist))\n"
   ]
  }
 ],
 "metadata": {
  "kernelspec": {
   "display_name": "Python 3",
   "language": "python",
   "name": "python3"
  },
  "language_info": {
   "codemirror_mode": {
    "name": "ipython",
    "version": 3
   },
   "file_extension": ".py",
   "mimetype": "text/x-python",
   "name": "python",
   "nbconvert_exporter": "python",
   "pygments_lexer": "ipython3",
   "version": "3.11.4"
  },
  "orig_nbformat": 4,
  "vscode": {
   "interpreter": {
    "hash": "b0fa6594d8f4cbf19f97940f81e996739fb7646882a419484c72d19e05852a7e"
   }
  }
 },
 "nbformat": 4,
 "nbformat_minor": 2
}

